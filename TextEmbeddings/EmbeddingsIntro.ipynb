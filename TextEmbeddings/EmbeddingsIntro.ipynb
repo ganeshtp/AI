{
 "cells": [
  {
   "cell_type": "code",
   "execution_count": null,
   "id": "b792ccc6",
   "metadata": {},
   "outputs": [],
   "source": [
    "#import os\n",
    "#os.environ[\"OPENAI_API_KEY\"] = \"Update the OpenAPI key here\""
   ]
  },
  {
   "cell_type": "code",
   "execution_count": null,
   "id": "5f3f5bce",
   "metadata": {},
   "outputs": [],
   "source": [
    "from langchain_openai import OpenAIEmbeddings"
   ]
  },
  {
   "cell_type": "code",
   "execution_count": null,
   "id": "1a131678",
   "metadata": {},
   "outputs": [],
   "source": [
    "embeddings = OpenAIEmbeddings()"
   ]
  },
  {
   "cell_type": "code",
   "execution_count": null,
   "id": "8448ad28",
   "metadata": {},
   "outputs": [],
   "source": [
    "text = \"Best of luck\""
   ]
  },
  {
   "cell_type": "code",
   "execution_count": null,
   "id": "7f4c26d7",
   "metadata": {},
   "outputs": [],
   "source": [
    "text_embedding = embeddings.embed_query(text)"
   ]
  },
  {
   "cell_type": "code",
   "execution_count": null,
   "id": "f0a1ada8",
   "metadata": {},
   "outputs": [],
   "source": [
    "print (f\"Embedding text to value is {text_embedding}\")"
   ]
  }
 ],
 "metadata": {
  "kernelspec": {
   "display_name": "Python 3 (ipykernel)",
   "language": "python",
   "name": "python3"
  },
  "language_info": {
   "codemirror_mode": {
    "name": "ipython",
    "version": 3
   },
   "file_extension": ".py",
   "mimetype": "text/x-python",
   "name": "python",
   "nbconvert_exporter": "python",
   "pygments_lexer": "ipython3",
   "version": "3.9.18"
  }
 },
 "nbformat": 4,
 "nbformat_minor": 5
}
