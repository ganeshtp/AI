{
 "cells": [
  {
   "cell_type": "code",
   "execution_count": null,
   "id": "40a34a83",
   "metadata": {},
   "outputs": [],
   "source": []
  },
  {
   "cell_type": "code",
   "execution_count": 1,
   "id": "99631e9c",
   "metadata": {},
   "outputs": [],
   "source": [
    "#import os\n",
    "#os.environ[\"OPENAI_API_KEY\"] = \"Update the openai key here\""
   ]
  },
  {
   "cell_type": "code",
   "execution_count": null,
   "id": "0748fa78",
   "metadata": {},
   "outputs": [],
   "source": []
  },
  {
   "cell_type": "code",
   "execution_count": 2,
   "id": "fe908c29",
   "metadata": {},
   "outputs": [],
   "source": [
    "from langchain_openai import OpenAIEmbeddings"
   ]
  },
  {
   "cell_type": "code",
   "execution_count": null,
   "id": "7ebdde15",
   "metadata": {},
   "outputs": [],
   "source": []
  },
  {
   "cell_type": "code",
   "execution_count": 3,
   "id": "399b4bb4",
   "metadata": {},
   "outputs": [],
   "source": [
    "embeddings = OpenAIEmbeddings()"
   ]
  },
  {
   "cell_type": "code",
   "execution_count": null,
   "id": "b3728f7a",
   "metadata": {},
   "outputs": [],
   "source": []
  },
  {
   "cell_type": "code",
   "execution_count": 4,
   "id": "ddef326e",
   "metadata": {},
   "outputs": [
    {
     "name": "stdout",
     "output_type": "stream",
     "text": [
      "       Words\n",
      "0       Lily\n",
      "1    Jasmine\n",
      "2  Sunflower\n",
      "3      Lotus\n",
      "4     Tennis\n",
      "5   Elephant\n",
      "6      Tiger\n",
      "7        Dog\n",
      "8        Bat\n",
      "9       Ball\n"
     ]
    }
   ],
   "source": [
    "import pandas as pd\n",
    "df = pd.read_excel('words.xlsx')\n",
    "print(df)"
   ]
  },
  {
   "cell_type": "code",
   "execution_count": null,
   "id": "2fa7120b",
   "metadata": {},
   "outputs": [],
   "source": []
  },
  {
   "cell_type": "code",
   "execution_count": 5,
   "id": "754353a7",
   "metadata": {},
   "outputs": [],
   "source": [
    "df['Embedding'] = df['Words'].apply(lambda x: embeddings.embed_query(x))\n",
    "df.to_csv('WordEmbeddings.csv')"
   ]
  },
  {
   "cell_type": "code",
   "execution_count": null,
   "id": "138e3468",
   "metadata": {},
   "outputs": [],
   "source": []
  },
  {
   "cell_type": "code",
   "execution_count": 7,
   "id": "3b7af4cb",
   "metadata": {},
   "outputs": [
    {
     "name": "stdout",
     "output_type": "stream",
     "text": [
      "   Unnamed: 0      Words                                          Embedding\n",
      "0           0       Lily  [-0.004466678693838176, 0.000942190066085319, ...\n",
      "1           1    Jasmine  [-0.01497389031026014, -0.013925186743575284, ...\n",
      "2           2  Sunflower  [-0.014984716244029191, -0.014499277373873075,...\n",
      "3           3      Lotus  [-0.013895569488808029, -0.008800969876329272,...\n",
      "4           4     Tennis  [-0.023068435609869042, 0.001618754709159776, ...\n",
      "5           5   Elephant  [-0.018878312423034248, -0.008599258796030004,...\n",
      "6           6      Tiger  [-0.01350113474231467, -0.009632539697974462, ...\n",
      "7           7        Dog  [-0.0008610776191312783, -0.015141254049242214...\n",
      "8           8        Bat  [-0.011311637893170206, -0.012729854012568048,...\n",
      "9           9       Ball  [-0.015197524563590347, -0.002411533109441028,...\n"
     ]
    }
   ],
   "source": [
    "new_df = pd.read_csv('WordEmbeddings.csv')\n",
    "print(new_df)"
   ]
  },
  {
   "cell_type": "code",
   "execution_count": null,
   "id": "efe16245",
   "metadata": {},
   "outputs": [],
   "source": []
  },
  {
   "cell_type": "code",
   "execution_count": 8,
   "id": "8b9b1689",
   "metadata": {},
   "outputs": [],
   "source": [
    "our_Text = \"Rose\""
   ]
  },
  {
   "cell_type": "code",
   "execution_count": null,
   "id": "d800d30f",
   "metadata": {},
   "outputs": [],
   "source": []
  },
  {
   "cell_type": "code",
   "execution_count": 9,
   "id": "c785a438",
   "metadata": {},
   "outputs": [],
   "source": [
    "text_embedding = embeddings.embed_query(our_Text)"
   ]
  },
  {
   "cell_type": "code",
   "execution_count": null,
   "id": "014e0b19",
   "metadata": {},
   "outputs": [],
   "source": []
  },
  {
   "cell_type": "code",
   "execution_count": 11,
   "id": "37645cf5",
   "metadata": {},
   "outputs": [
    {
     "data": {
      "text/html": [
       "<div>\n",
       "<style scoped>\n",
       "    .dataframe tbody tr th:only-of-type {\n",
       "        vertical-align: middle;\n",
       "    }\n",
       "\n",
       "    .dataframe tbody tr th {\n",
       "        vertical-align: top;\n",
       "    }\n",
       "\n",
       "    .dataframe thead th {\n",
       "        text-align: right;\n",
       "    }\n",
       "</style>\n",
       "<table border=\"1\" class=\"dataframe\">\n",
       "  <thead>\n",
       "    <tr style=\"text-align: right;\">\n",
       "      <th></th>\n",
       "      <th>Words</th>\n",
       "      <th>Embedding</th>\n",
       "      <th>similarity score</th>\n",
       "    </tr>\n",
       "  </thead>\n",
       "  <tbody>\n",
       "    <tr>\n",
       "      <th>0</th>\n",
       "      <td>Lily</td>\n",
       "      <td>[-0.004466678693838176, 0.000942190066085319, ...</td>\n",
       "      <td>0.842131</td>\n",
       "    </tr>\n",
       "    <tr>\n",
       "      <th>1</th>\n",
       "      <td>Jasmine</td>\n",
       "      <td>[-0.01497389031026014, -0.013925186743575284, ...</td>\n",
       "      <td>0.838326</td>\n",
       "    </tr>\n",
       "    <tr>\n",
       "      <th>2</th>\n",
       "      <td>Sunflower</td>\n",
       "      <td>[-0.014984716244029191, -0.014499277373873075,...</td>\n",
       "      <td>0.818167</td>\n",
       "    </tr>\n",
       "    <tr>\n",
       "      <th>3</th>\n",
       "      <td>Lotus</td>\n",
       "      <td>[-0.013895569488808029, -0.008800969876329272,...</td>\n",
       "      <td>0.818776</td>\n",
       "    </tr>\n",
       "    <tr>\n",
       "      <th>4</th>\n",
       "      <td>Tennis</td>\n",
       "      <td>[-0.023068435609869042, 0.001618754709159776, ...</td>\n",
       "      <td>0.784244</td>\n",
       "    </tr>\n",
       "    <tr>\n",
       "      <th>5</th>\n",
       "      <td>Elephant</td>\n",
       "      <td>[-0.018878312423034248, -0.008599258796030004,...</td>\n",
       "      <td>0.783681</td>\n",
       "    </tr>\n",
       "    <tr>\n",
       "      <th>6</th>\n",
       "      <td>Tiger</td>\n",
       "      <td>[-0.01350113474231467, -0.009632539697974462, ...</td>\n",
       "      <td>0.803760</td>\n",
       "    </tr>\n",
       "    <tr>\n",
       "      <th>7</th>\n",
       "      <td>Dog</td>\n",
       "      <td>[-0.0008610776191312783, -0.015141254049242214...</td>\n",
       "      <td>0.810653</td>\n",
       "    </tr>\n",
       "    <tr>\n",
       "      <th>8</th>\n",
       "      <td>Bat</td>\n",
       "      <td>[-0.011311637893170206, -0.012729854012568048,...</td>\n",
       "      <td>0.814090</td>\n",
       "    </tr>\n",
       "    <tr>\n",
       "      <th>9</th>\n",
       "      <td>Ball</td>\n",
       "      <td>[-0.015197524563590347, -0.002411533109441028,...</td>\n",
       "      <td>0.815880</td>\n",
       "    </tr>\n",
       "  </tbody>\n",
       "</table>\n",
       "</div>"
      ],
      "text/plain": [
       "       Words                                          Embedding  \\\n",
       "0       Lily  [-0.004466678693838176, 0.000942190066085319, ...   \n",
       "1    Jasmine  [-0.01497389031026014, -0.013925186743575284, ...   \n",
       "2  Sunflower  [-0.014984716244029191, -0.014499277373873075,...   \n",
       "3      Lotus  [-0.013895569488808029, -0.008800969876329272,...   \n",
       "4     Tennis  [-0.023068435609869042, 0.001618754709159776, ...   \n",
       "5   Elephant  [-0.018878312423034248, -0.008599258796030004,...   \n",
       "6      Tiger  [-0.01350113474231467, -0.009632539697974462, ...   \n",
       "7        Dog  [-0.0008610776191312783, -0.015141254049242214...   \n",
       "8        Bat  [-0.011311637893170206, -0.012729854012568048,...   \n",
       "9       Ball  [-0.015197524563590347, -0.002411533109441028,...   \n",
       "\n",
       "   similarity score  \n",
       "0          0.842131  \n",
       "1          0.838326  \n",
       "2          0.818167  \n",
       "3          0.818776  \n",
       "4          0.784244  \n",
       "5          0.783681  \n",
       "6          0.803760  \n",
       "7          0.810653  \n",
       "8          0.814090  \n",
       "9          0.815880  "
      ]
     },
     "execution_count": 11,
     "metadata": {},
     "output_type": "execute_result"
    }
   ],
   "source": [
    "\n",
    "import numpy as np\n",
    "#Creating a function which will help us with finding the cosine_similarity score\n",
    "def cosine_similarity(a, b):\n",
    "    return np.dot(a, b) / (np.linalg.norm(a) * np.linalg.norm(b))\n",
    "\n",
    "df[\"similarity score\"] = df['Embedding'].apply(lambda x: cosine_similarity(x, text_embedding))\n",
    "\n",
    "df"
   ]
  },
  {
   "cell_type": "code",
   "execution_count": null,
   "id": "dccfeb47",
   "metadata": {},
   "outputs": [],
   "source": []
  },
  {
   "cell_type": "code",
   "execution_count": 12,
   "id": "7fa5692c",
   "metadata": {},
   "outputs": [
    {
     "data": {
      "text/html": [
       "<div>\n",
       "<style scoped>\n",
       "    .dataframe tbody tr th:only-of-type {\n",
       "        vertical-align: middle;\n",
       "    }\n",
       "\n",
       "    .dataframe tbody tr th {\n",
       "        vertical-align: top;\n",
       "    }\n",
       "\n",
       "    .dataframe thead th {\n",
       "        text-align: right;\n",
       "    }\n",
       "</style>\n",
       "<table border=\"1\" class=\"dataframe\">\n",
       "  <thead>\n",
       "    <tr style=\"text-align: right;\">\n",
       "      <th></th>\n",
       "      <th>Words</th>\n",
       "      <th>Embedding</th>\n",
       "      <th>similarity score</th>\n",
       "    </tr>\n",
       "  </thead>\n",
       "  <tbody>\n",
       "    <tr>\n",
       "      <th>0</th>\n",
       "      <td>Lily</td>\n",
       "      <td>[-0.004466678693838176, 0.000942190066085319, ...</td>\n",
       "      <td>0.842131</td>\n",
       "    </tr>\n",
       "    <tr>\n",
       "      <th>1</th>\n",
       "      <td>Jasmine</td>\n",
       "      <td>[-0.01497389031026014, -0.013925186743575284, ...</td>\n",
       "      <td>0.838326</td>\n",
       "    </tr>\n",
       "    <tr>\n",
       "      <th>3</th>\n",
       "      <td>Lotus</td>\n",
       "      <td>[-0.013895569488808029, -0.008800969876329272,...</td>\n",
       "      <td>0.818776</td>\n",
       "    </tr>\n",
       "    <tr>\n",
       "      <th>2</th>\n",
       "      <td>Sunflower</td>\n",
       "      <td>[-0.014984716244029191, -0.014499277373873075,...</td>\n",
       "      <td>0.818167</td>\n",
       "    </tr>\n",
       "    <tr>\n",
       "      <th>9</th>\n",
       "      <td>Ball</td>\n",
       "      <td>[-0.015197524563590347, -0.002411533109441028,...</td>\n",
       "      <td>0.815880</td>\n",
       "    </tr>\n",
       "    <tr>\n",
       "      <th>8</th>\n",
       "      <td>Bat</td>\n",
       "      <td>[-0.011311637893170206, -0.012729854012568048,...</td>\n",
       "      <td>0.814090</td>\n",
       "    </tr>\n",
       "    <tr>\n",
       "      <th>7</th>\n",
       "      <td>Dog</td>\n",
       "      <td>[-0.0008610776191312783, -0.015141254049242214...</td>\n",
       "      <td>0.810653</td>\n",
       "    </tr>\n",
       "    <tr>\n",
       "      <th>6</th>\n",
       "      <td>Tiger</td>\n",
       "      <td>[-0.01350113474231467, -0.009632539697974462, ...</td>\n",
       "      <td>0.803760</td>\n",
       "    </tr>\n",
       "    <tr>\n",
       "      <th>4</th>\n",
       "      <td>Tennis</td>\n",
       "      <td>[-0.023068435609869042, 0.001618754709159776, ...</td>\n",
       "      <td>0.784244</td>\n",
       "    </tr>\n",
       "    <tr>\n",
       "      <th>5</th>\n",
       "      <td>Elephant</td>\n",
       "      <td>[-0.018878312423034248, -0.008599258796030004,...</td>\n",
       "      <td>0.783681</td>\n",
       "    </tr>\n",
       "  </tbody>\n",
       "</table>\n",
       "</div>"
      ],
      "text/plain": [
       "       Words                                          Embedding  \\\n",
       "0       Lily  [-0.004466678693838176, 0.000942190066085319, ...   \n",
       "1    Jasmine  [-0.01497389031026014, -0.013925186743575284, ...   \n",
       "3      Lotus  [-0.013895569488808029, -0.008800969876329272,...   \n",
       "2  Sunflower  [-0.014984716244029191, -0.014499277373873075,...   \n",
       "9       Ball  [-0.015197524563590347, -0.002411533109441028,...   \n",
       "8        Bat  [-0.011311637893170206, -0.012729854012568048,...   \n",
       "7        Dog  [-0.0008610776191312783, -0.015141254049242214...   \n",
       "6      Tiger  [-0.01350113474231467, -0.009632539697974462, ...   \n",
       "4     Tennis  [-0.023068435609869042, 0.001618754709159776, ...   \n",
       "5   Elephant  [-0.018878312423034248, -0.008599258796030004,...   \n",
       "\n",
       "   similarity score  \n",
       "0          0.842131  \n",
       "1          0.838326  \n",
       "3          0.818776  \n",
       "2          0.818167  \n",
       "9          0.815880  \n",
       "8          0.814090  \n",
       "7          0.810653  \n",
       "6          0.803760  \n",
       "4          0.784244  \n",
       "5          0.783681  "
      ]
     },
     "execution_count": 12,
     "metadata": {},
     "output_type": "execute_result"
    }
   ],
   "source": [
    "df.sort_values(\"similarity score\", ascending=False).head(10)"
   ]
  },
  {
   "cell_type": "code",
   "execution_count": null,
   "id": "2a0e58ec",
   "metadata": {},
   "outputs": [],
   "source": []
  },
  {
   "cell_type": "code",
   "execution_count": null,
   "id": "7627495f",
   "metadata": {},
   "outputs": [],
   "source": []
  }
 ],
 "metadata": {
  "kernelspec": {
   "display_name": "Python 3 (ipykernel)",
   "language": "python",
   "name": "python3"
  },
  "language_info": {
   "codemirror_mode": {
    "name": "ipython",
    "version": 3
   },
   "file_extension": ".py",
   "mimetype": "text/x-python",
   "name": "python",
   "nbconvert_exporter": "python",
   "pygments_lexer": "ipython3",
   "version": "3.9.18"
  }
 },
 "nbformat": 4,
 "nbformat_minor": 5
}
