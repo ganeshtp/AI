{
 "cells": [
  {
   "cell_type": "code",
   "execution_count": null,
   "id": "9a0f6198",
   "metadata": {},
   "outputs": [],
   "source": []
  },
  {
   "cell_type": "code",
   "execution_count": null,
   "id": "50ac132f",
   "metadata": {},
   "outputs": [],
   "source": [
    "#import os\n",
    "#os.environ[\"OPENAI_API_KEY\"] = \"Update the secret key here\""
   ]
  },
  {
   "cell_type": "code",
   "execution_count": null,
   "id": "27c7a1c7",
   "metadata": {},
   "outputs": [],
   "source": []
  },
  {
   "cell_type": "code",
   "execution_count": null,
   "id": "f461c784",
   "metadata": {},
   "outputs": [],
   "source": [
    "from langchain_openai import ChatOpenAI"
   ]
  },
  {
   "cell_type": "code",
   "execution_count": null,
   "id": "481b49a3",
   "metadata": {},
   "outputs": [],
   "source": []
  },
  {
   "cell_type": "code",
   "execution_count": null,
   "id": "2564116b",
   "metadata": {},
   "outputs": [],
   "source": [
    "from langchain.schema import HumanMessage, SystemMessage, AIMessage"
   ]
  },
  {
   "cell_type": "code",
   "execution_count": null,
   "id": "3c65a067",
   "metadata": {},
   "outputs": [],
   "source": []
  },
  {
   "cell_type": "code",
   "execution_count": null,
   "id": "af404cd2",
   "metadata": {},
   "outputs": [],
   "source": [
    "chat = ChatOpenAI(temperature=.7, model='gpt-3.5-turbo')"
   ]
  },
  {
   "cell_type": "code",
   "execution_count": null,
   "id": "889c80d8",
   "metadata": {},
   "outputs": [],
   "source": []
  },
  {
   "cell_type": "code",
   "execution_count": null,
   "id": "c2da6f10",
   "metadata": {},
   "outputs": [],
   "source": [
    "chat.invoke(\n",
    "    [\n",
    "        SystemMessage(content=\"You are a sarcastic AI assistant\"),\n",
    "        HumanMessage(content=\"Please answer in 30 words: How can I learn to cook\")\n",
    "    ]\n",
    ")"
   ]
  },
  {
   "cell_type": "code",
   "execution_count": null,
   "id": "2023f805",
   "metadata": {},
   "outputs": [],
   "source": []
  },
  {
   "cell_type": "code",
   "execution_count": null,
   "id": "cd98da1a",
   "metadata": {},
   "outputs": [],
   "source": [
    "chat.invoke(\n",
    "    [\n",
    "        SystemMessage(content=\"You are a teenager who answers very cutely and in a funny way\"),\n",
    "        HumanMessage(content=\"Please answer in 30 words: How can I manage my parents\")\n",
    "    ]\n",
    ")"
   ]
  },
  {
   "cell_type": "code",
   "execution_count": null,
   "id": "c8afcc08",
   "metadata": {},
   "outputs": [],
   "source": []
  },
  {
   "cell_type": "code",
   "execution_count": null,
   "id": "537dae71",
   "metadata": {},
   "outputs": [],
   "source": [
    "ourConversation=chat.invoke(\n",
    "    [\n",
    "    SystemMessage(content=\"You are a teenager who answers very cutely and in a funny way\"),\n",
    "    HumanMessage(content=\"How can I manage my parents\"),\n",
    "    AIMessage(content=\"Just give them lots of love, listen to their advice\"),\n",
    "    HumanMessage(content=\"Can you teach me fake love and listening to their advice?\")\n",
    "    ]\n",
    ")"
   ]
  },
  {
   "cell_type": "code",
   "execution_count": null,
   "id": "1df3892d",
   "metadata": {},
   "outputs": [],
   "source": [
    "print(ourConversation.content)"
   ]
  },
  {
   "cell_type": "code",
   "execution_count": null,
   "id": "2af5938a",
   "metadata": {},
   "outputs": [],
   "source": []
  }
 ],
 "metadata": {
  "kernelspec": {
   "display_name": "Python 3 (ipykernel)",
   "language": "python",
   "name": "python3"
  },
  "language_info": {
   "codemirror_mode": {
    "name": "ipython",
    "version": 3
   },
   "file_extension": ".py",
   "mimetype": "text/x-python",
   "name": "python",
   "nbconvert_exporter": "python",
   "pygments_lexer": "ipython3",
   "version": "3.9.18"
  }
 },
 "nbformat": 4,
 "nbformat_minor": 5
}
