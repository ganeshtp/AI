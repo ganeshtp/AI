{
 "cells": [
  {
   "cell_type": "markdown",
   "id": "98ad0e34",
   "metadata": {},
   "source": [
    "# install libraries"
   ]
  },
  {
   "cell_type": "code",
   "execution_count": null,
   "id": "e1da6ae8",
   "metadata": {},
   "outputs": [],
   "source": [
    "#!pip install langchain\n",
    "#!pip install openai\n",
    "#!pip install faiss-cpu"
   ]
  },
  {
   "cell_type": "markdown",
   "id": "b3c85106",
   "metadata": {},
   "source": [
    "# Import classes from libraries"
   ]
  },
  {
   "cell_type": "code",
   "execution_count": null,
   "id": "7b57b3d7",
   "metadata": {},
   "outputs": [],
   "source": [
    "from langchain.embeddings.openai import OpenAIEmbeddings\n",
    "from langchain.text_splitter import CharacterTextSplitter\n",
    "from langchain.vectorstores import FAISS\n",
    "from langchain.chains.question_answering import load_qa_chain\n",
    "from langchain.llms import OpenAI"
   ]
  },
  {
   "cell_type": "markdown",
   "id": "1bc024b3",
   "metadata": {},
   "source": [
    "### \"OS\" module provides a way to interact with the operating system. Set the environment variable to authenticate with OpenAI\n"
   ]
  },
  {
   "cell_type": "code",
   "execution_count": null,
   "id": "89412194",
   "metadata": {},
   "outputs": [],
   "source": [
    "#import os\n",
    "#os.environ[\"OPENAI_API_KEY\"] = \"Update the openai key here\""
   ]
  },
  {
   "cell_type": "code",
   "execution_count": null,
   "id": "3de9b383",
   "metadata": {},
   "outputs": [],
   "source": [
    "#LLM call \n",
    "llm = OpenAI(model_name= \"gpt-3.5-turbo-instruct\")"
   ]
  },
  {
   "cell_type": "code",
   "execution_count": null,
   "id": "e7dbff0e",
   "metadata": {},
   "outputs": [],
   "source": [
    "query = \"Describe about akhil?\"\n",
    "print(llm(query))"
   ]
  },
  {
   "cell_type": "code",
   "execution_count": null,
   "id": "b57f205a",
   "metadata": {},
   "outputs": [],
   "source": [
    "data = \"Akhil is a student of DAV school.\\n He is a calm, attentive and lovable person.\\n He is studying 4th standard. \\n Akhil is 10 years old.\""
   ]
  },
  {
   "cell_type": "code",
   "execution_count": null,
   "id": "16f19760",
   "metadata": {},
   "outputs": [],
   "source": [
    "text_splitter = CharacterTextSplitter(\n",
    "    separator = \"\\n\",\n",
    "    chunk_size = 200,\n",
    "    chunk_overlap = 20,\n",
    "    length_function = len\n",
    ")\n",
    "finalData = text_splitter.split_text(data)"
   ]
  },
  {
   "cell_type": "code",
   "execution_count": null,
   "id": "8740da19",
   "metadata": {},
   "outputs": [],
   "source": [
    "len(finalData)"
   ]
  },
  {
   "cell_type": "code",
   "execution_count": null,
   "id": "2edb4363",
   "metadata": {},
   "outputs": [],
   "source": [
    "embeddings = OpenAIEmbeddings()"
   ]
  },
  {
   "cell_type": "code",
   "execution_count": null,
   "id": "4006e723",
   "metadata": {},
   "outputs": [],
   "source": [
    "documentSearch = FAISS.from_texts(finalData, embeddings)"
   ]
  },
  {
   "cell_type": "code",
   "execution_count": null,
   "id": "aa47c774",
   "metadata": {},
   "outputs": [],
   "source": [
    "chain = load_qa_chain(OpenAI(), chain_type=\"stuff\")"
   ]
  },
  {
   "cell_type": "code",
   "execution_count": null,
   "id": "b7c567f0",
   "metadata": {},
   "outputs": [],
   "source": [
    "query = \"Which standard does akhil study?\"\n",
    "docs = documentSearch.similarity_search(query)\n",
    "chain.run(input_documents=docs, question= query)"
   ]
  },
  {
   "cell_type": "code",
   "execution_count": null,
   "id": "b8d0f35a",
   "metadata": {},
   "outputs": [],
   "source": [
    "query = \"How old is akhil?\"\n",
    "docs = documentSearch.similarity_search(query)\n",
    "chain.run(input_documents=docs, question= query)"
   ]
  },
  {
   "cell_type": "code",
   "execution_count": null,
   "id": "f4c291aa",
   "metadata": {},
   "outputs": [],
   "source": []
  }
 ],
 "metadata": {
  "kernelspec": {
   "display_name": "Python 3 (ipykernel)",
   "language": "python",
   "name": "python3"
  },
  "language_info": {
   "codemirror_mode": {
    "name": "ipython",
    "version": 3
   },
   "file_extension": ".py",
   "mimetype": "text/x-python",
   "name": "python",
   "nbconvert_exporter": "python",
   "pygments_lexer": "ipython3",
   "version": "3.9.18"
  }
 },
 "nbformat": 4,
 "nbformat_minor": 5
}
